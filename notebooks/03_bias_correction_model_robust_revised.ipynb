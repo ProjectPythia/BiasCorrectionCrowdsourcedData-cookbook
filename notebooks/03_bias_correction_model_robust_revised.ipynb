{
 "cells": [
  {
   "cell_type": "markdown",
   "id": "d53317c6",
   "metadata": {},
   "source": [
    "# 3. Bias Correction Model"
   ]
  },
  {
   "cell_type": "code",
   "execution_count": 4,
   "id": "6edc606a-8b76-4d8f-be75-42b548b9b24b",
   "metadata": {},
   "outputs": [
    {
     "name": "stdout",
     "output_type": "stream",
     "text": [
      "Requirement already satisfied: h3 in /srv/conda/envs/notebook/lib/python3.10/site-packages (4.3.0)\n"
     ]
    }
   ],
   "source": [
    "!pip install h3"
   ]
  },
  {
   "cell_type": "code",
   "execution_count": 2,
   "id": "258d4839-13e8-4581-8d40-8ed049f631c9",
   "metadata": {},
   "outputs": [
    {
     "name": "stdout",
     "output_type": "stream",
     "text": [
      "Requirement already satisfied: h3 in /srv/conda/envs/notebook/lib/python3.10/site-packages (4.3.0)\n",
      "Requirement already satisfied: matplotlib in /srv/conda/envs/notebook/lib/python3.10/site-packages (3.10.5)\n",
      "Collecting seaborn\n",
      "  Using cached seaborn-0.13.2-py3-none-any.whl.metadata (5.4 kB)\n",
      "Requirement already satisfied: pandas in /srv/conda/envs/notebook/lib/python3.10/site-packages (2.3.1)\n",
      "Requirement already satisfied: contourpy>=1.0.1 in /srv/conda/envs/notebook/lib/python3.10/site-packages (from matplotlib) (1.3.2)\n",
      "Requirement already satisfied: cycler>=0.10 in /srv/conda/envs/notebook/lib/python3.10/site-packages (from matplotlib) (0.12.1)\n",
      "Requirement already satisfied: fonttools>=4.22.0 in /srv/conda/envs/notebook/lib/python3.10/site-packages (from matplotlib) (4.59.0)\n",
      "Requirement already satisfied: kiwisolver>=1.3.1 in /srv/conda/envs/notebook/lib/python3.10/site-packages (from matplotlib) (1.4.8)\n",
      "Requirement already satisfied: numpy>=1.23 in /srv/conda/envs/notebook/lib/python3.10/site-packages (from matplotlib) (2.2.6)\n",
      "Requirement already satisfied: packaging>=20.0 in /srv/conda/envs/notebook/lib/python3.10/site-packages (from matplotlib) (24.2)\n",
      "Requirement already satisfied: pillow>=8 in /srv/conda/envs/notebook/lib/python3.10/site-packages (from matplotlib) (11.3.0)\n",
      "Requirement already satisfied: pyparsing>=2.3.1 in /srv/conda/envs/notebook/lib/python3.10/site-packages (from matplotlib) (3.2.3)\n",
      "Requirement already satisfied: python-dateutil>=2.7 in /srv/conda/envs/notebook/lib/python3.10/site-packages (from matplotlib) (2.9.0.post0)\n",
      "Requirement already satisfied: pytz>=2020.1 in /srv/conda/envs/notebook/lib/python3.10/site-packages (from pandas) (2025.1)\n",
      "Requirement already satisfied: tzdata>=2022.7 in /srv/conda/envs/notebook/lib/python3.10/site-packages (from pandas) (2025.2)\n",
      "Requirement already satisfied: six>=1.5 in /srv/conda/envs/notebook/lib/python3.10/site-packages (from python-dateutil>=2.7->matplotlib) (1.17.0)\n",
      "Using cached seaborn-0.13.2-py3-none-any.whl (294 kB)\n",
      "Installing collected packages: seaborn\n",
      "Successfully installed seaborn-0.13.2\n"
     ]
    }
   ],
   "source": [
    "!pip install h3 matplotlib seaborn pandas"
   ]
  },
  {
   "cell_type": "code",
   "execution_count": 3,
   "id": "2f299d8c-49bb-4a93-8b82-a22c4aa317ba",
   "metadata": {},
   "outputs": [
    {
     "ename": "ModuleNotFoundError",
     "evalue": "No module named 'h3'",
     "output_type": "error",
     "traceback": [
      "\u001b[31m---------------------------------------------------------------------------\u001b[39m",
      "\u001b[31mModuleNotFoundError\u001b[39m                       Traceback (most recent call last)",
      "\u001b[36mCell\u001b[39m\u001b[36m \u001b[39m\u001b[32mIn[3]\u001b[39m\u001b[32m, line 4\u001b[39m\n\u001b[32m      2\u001b[39m \u001b[38;5;28;01mimport\u001b[39;00m\u001b[38;5;250m \u001b[39m\u001b[34;01mmatplotlib\u001b[39;00m\u001b[34;01m.\u001b[39;00m\u001b[34;01mpyplot\u001b[39;00m\u001b[38;5;250m \u001b[39m\u001b[38;5;28;01mas\u001b[39;00m\u001b[38;5;250m \u001b[39m\u001b[34;01mplt\u001b[39;00m\n\u001b[32m      3\u001b[39m \u001b[38;5;28;01mimport\u001b[39;00m\u001b[38;5;250m \u001b[39m\u001b[34;01mseaborn\u001b[39;00m\u001b[38;5;250m \u001b[39m\u001b[38;5;28;01mas\u001b[39;00m\u001b[38;5;250m \u001b[39m\u001b[34;01msns\u001b[39;00m\n\u001b[32m----> \u001b[39m\u001b[32m4\u001b[39m \u001b[38;5;28;01mimport\u001b[39;00m\u001b[38;5;250m \u001b[39m\u001b[34;01mh3\u001b[39;00m\n\u001b[32m      6\u001b[39m \u001b[38;5;66;03m# Sample DataFrame structure: replace with your actual data loading\u001b[39;00m\n\u001b[32m      7\u001b[39m data = pd.DataFrame({\n\u001b[32m      8\u001b[39m     \u001b[33m'\u001b[39m\u001b[33mhex_id\u001b[39m\u001b[33m'\u001b[39m: [\n\u001b[32m      9\u001b[39m         \u001b[33m'\u001b[39m\u001b[33m8928308280fffff\u001b[39m\u001b[33m'\u001b[39m,\n\u001b[32m   (...)\u001b[39m\u001b[32m     14\u001b[39m     \u001b[33m'\u001b[39m\u001b[33mdemographic_similarity\u001b[39m\u001b[33m'\u001b[39m: [\u001b[32m0.8\u001b[39m, \u001b[32m0.6\u001b[39m, \u001b[32m0.9\u001b[39m, \u001b[32m0.4\u001b[39m]\n\u001b[32m     15\u001b[39m })\n",
      "\u001b[31mModuleNotFoundError\u001b[39m: No module named 'h3'"
     ]
    }
   ],
   "source": [
    "import pandas as pd\n",
    "import matplotlib.pyplot as plt\n",
    "import seaborn as sns\n",
    "import h3\n",
    "\n",
    "# Sample DataFrame structure: replace with your actual data loading\n",
    "data = pd.DataFrame({\n",
    "    'hex_id': [\n",
    "        '8928308280fffff',\n",
    "        '89283082807ffff',\n",
    "        '89283082877ffff',\n",
    "        '89283082803ffff',\n",
    "    ],\n",
    "    'demographic_similarity': [0.8, 0.6, 0.9, 0.4]\n",
    "})\n",
    "\n",
    "# Aggregate demographic similarity by hex_id (if needed)\n",
    "agg = data.groupby('hex_id')['demographic_similarity'].mean().reset_index()\n",
    "\n",
    "# Get lat/lon of hex centers from hex IDs using h3\n",
    "agg['lat'] = agg['hex_id'].apply(lambda x: h3.h3_to_geo(x)[0])\n",
    "agg['lon'] = agg['hex_id'].apply(lambda x: h3.h3_to_geo(x)[1])\n",
    "\n",
    "# Plot demographic similarity on scatter plot\n",
    "plt.figure(figsize=(10,8))\n",
    "scatter = plt.scatter(\n",
    "    agg['lon'], agg['lat'], \n",
    "    c=agg['demographic_similarity'], \n",
    "    cmap='viridis', \n",
    "    s=100, edgecolor='k'\n",
    ")\n",
    "plt.colorbar(scatter, label='Demographic Similarity')\n",
    "plt.title('Demographic Similarity by H3 Hex')\n",
    "plt.xlabel('Longitude')\n",
    "plt.ylabel('Latitude')\n",
    "plt.grid(True)\n",
    "plt.show()"
   ]
  },
  {
   "cell_type": "code",
   "execution_count": 1,
   "id": "cf95cecd-d865-4d03-9f28-3f29ce536279",
   "metadata": {},
   "outputs": [
    {
     "ename": "ModuleNotFoundError",
     "evalue": "No module named 'h3'",
     "output_type": "error",
     "traceback": [
      "\u001b[31m---------------------------------------------------------------------------\u001b[39m",
      "\u001b[31mModuleNotFoundError\u001b[39m                       Traceback (most recent call last)",
      "\u001b[36mCell\u001b[39m\u001b[36m \u001b[39m\u001b[32mIn[1]\u001b[39m\u001b[32m, line 4\u001b[39m\n\u001b[32m      2\u001b[39m \u001b[38;5;28;01mimport\u001b[39;00m\u001b[38;5;250m \u001b[39m\u001b[34;01mmatplotlib\u001b[39;00m\u001b[34;01m.\u001b[39;00m\u001b[34;01mpyplot\u001b[39;00m\u001b[38;5;250m \u001b[39m\u001b[38;5;28;01mas\u001b[39;00m\u001b[38;5;250m \u001b[39m\u001b[34;01mplt\u001b[39;00m\n\u001b[32m      3\u001b[39m \u001b[38;5;28;01mimport\u001b[39;00m\u001b[38;5;250m \u001b[39m\u001b[34;01mseaborn\u001b[39;00m\u001b[38;5;250m \u001b[39m\u001b[38;5;28;01mas\u001b[39;00m\u001b[38;5;250m \u001b[39m\u001b[34;01msns\u001b[39;00m\n\u001b[32m----> \u001b[39m\u001b[32m4\u001b[39m \u001b[38;5;28;01mimport\u001b[39;00m\u001b[38;5;250m \u001b[39m\u001b[34;01mh3\u001b[39;00m\n\u001b[32m      6\u001b[39m \u001b[38;5;66;03m# Example: aggregate demographic similarity by hex_id\u001b[39;00m\n\u001b[32m      7\u001b[39m \u001b[38;5;66;03m# Assuming you have a DataFrame `data` with columns 'hex_id' and 'demographic_similarity'\u001b[39;00m\n\u001b[32m      9\u001b[39m agg = data.groupby(\u001b[33m'\u001b[39m\u001b[33mhex_id\u001b[39m\u001b[33m'\u001b[39m)[\u001b[33m'\u001b[39m\u001b[33mdemographic_similarity\u001b[39m\u001b[33m'\u001b[39m].mean().reset_index()\n",
      "\u001b[31mModuleNotFoundError\u001b[39m: No module named 'h3'"
     ]
    }
   ],
   "source": [
    "import pandas as pd\n",
    "import matplotlib.pyplot as plt\n",
    "import seaborn as sns\n",
    "import h3\n",
    "\n",
    "# Example: aggregate demographic similarity by hex_id\n",
    "# Assuming you have a DataFrame `data` with columns 'hex_id' and 'demographic_similarity'\n",
    "\n",
    "agg = data.groupby('hex_id')['demographic_similarity'].mean().reset_index()\n",
    "\n",
    "# Use h3 to get approximate lat/lon of hex centers\n",
    "agg['lat'] = agg['hex_id'].apply(lambda x: h3.h3_to_geo(x)[0])\n",
    "agg['lon'] = agg['hex_id'].apply(lambda x: h3.h3_to_geo(x)[1])\n",
    "\n",
    "plt.figure(figsize=(10,8))\n",
    "sns.scatterplot(x='lon', y='lat', hue='demographic_similarity', data=agg, palette='viridis')\n",
    "plt.title('Demographic Similarity by Hex')\n",
    "plt.xlabel('Longitude')\n",
    "plt.ylabel('Latitude')\n",
    "plt.colorbar(label='Demographic Similarity')\n",
    "plt.show()"
   ]
  },
  {
   "cell_type": "code",
   "execution_count": null,
   "id": "443d9825-47c6-42d9-a2fd-f3baf5e33e34",
   "metadata": {},
   "outputs": [],
   "source": [
    "import pandas as pd\n",
    "import geopandas as gpd\n",
    "import h3\n",
    "import matplotlib.pyplot as plt\n",
    "import seaborn as sns\n",
    "from sklearn.cluster import KMeans\n",
    "from sklearn.linear_model import LinearRegression\n",
    "from sklearn.metrics import mean_squared_error\n",
    "import time\n",
    "import logging\n",
    "import os"
   ]
  },
  {
   "cell_type": "code",
   "execution_count": null,
   "id": "eeb68689",
   "metadata": {},
   "outputs": [],
   "source": [
    "import seaborn as sns\n",
    "import matplotlib.pyplot as plt\n",
    "\n",
    "# Distribution of EcoCounter and Strava counts\n",
    "sns.histplot(truth_df['EcoCntr_weekly_SUM'], kde=True, color='blue', label='EcoCounter')\n",
    "sns.histplot(truth_df['SUM_total_trip_count'], kde=True, color='orange', label='Strava')\n",
    "plt.legend()\n",
    "plt.title('Distribution of EcoCounter and Strava Counts')\n",
    "plt.xlabel('Weekly Count')\n",
    "plt.ylabel('Frequency')\n",
    "plt.show()"
   ]
  },
  {
   "cell_type": "code",
   "execution_count": null,
   "id": "e3148bd8-78f2-45a0-91b6-3e25c4d74d01",
   "metadata": {},
   "outputs": [],
   "source": [
    "for col in truth_df.columns:\n",
    "    print(f\"'{col}'\")"
   ]
  },
  {
   "cell_type": "markdown",
   "id": "9df6f7e0",
   "metadata": {},
   "source": [
    "### 3b. Covariate Selection & Model Setup"
   ]
  },
  {
   "cell_type": "code",
   "execution_count": null,
   "id": "359dbd66",
   "metadata": {},
   "outputs": [],
   "source": [
    "\n",
    "from sklearn.linear_model import LinearRegression\n",
    "from sklearn.model_selection import train_test_split\n",
    "from sklearn.metrics import mean_absolute_error, mean_squared_error, r2_score\n",
    "\n",
    "# Define covariates and response\n",
    "features = ['strava_count', 'trail_access', 'pop_density', 'median_income', 'age_18_34', 'bike_infra']\n",
    "X = df[features]\n",
    "y = df['eco_count']\n",
    "\n",
    "# Split into train/test\n",
    "X_train, X_test, y_train, y_test = train_test_split(X, y, test_size=0.2, random_state=42)\n",
    "\n",
    "# Fit model\n",
    "model = LinearRegression()\n",
    "model.fit(X_train, y_train)\n",
    "\n",
    "# Predict\n",
    "y_pred = model.predict(X_test)\n",
    "\n",
    "# Evaluation metrics\n",
    "print(\"MAE:\", mean_absolute_error(y_test, y_pred))\n",
    "print(\"RMSE:\", mean_squared_error(y_test, y_pred, squared=False))\n",
    "print(\"R^2:\", r2_score(y_test, y_pred))\n"
   ]
  },
  {
   "cell_type": "markdown",
   "id": "b0a44037",
   "metadata": {},
   "source": [
    "### 3c. Correction Model Application"
   ]
  },
  {
   "cell_type": "code",
   "execution_count": null,
   "id": "ef5716f6",
   "metadata": {},
   "outputs": [],
   "source": [
    "\n",
    "# Apply bias correction to full dataset\n",
    "df['eco_pred'] = model.predict(X)\n",
    "\n",
    "# Plot predicted vs actual\n",
    "sns.scatterplot(x='eco_count', y='eco_pred', data=df)\n",
    "plt.plot([df['eco_count'].min(), df['eco_count'].max()],\n",
    "         [df['eco_count'].min(), df['eco_count'].max()],\n",
    "         '--', color='red')\n",
    "plt.xlabel(\"Observed EcoCounter\")\n",
    "plt.ylabel(\"Predicted EcoCounter\")\n",
    "plt.title(\"Bias Corrected Predictions vs Observations\")\n",
    "plt.show()\n"
   ]
  },
  {
   "cell_type": "markdown",
   "id": "8ff73819",
   "metadata": {},
   "source": [
    "### 3d. Spatial Validation Across Demographic Clusters"
   ]
  },
  {
   "cell_type": "code",
   "execution_count": null,
   "id": "7d771ec4",
   "metadata": {},
   "outputs": [],
   "source": [
    "\n",
    "# Load hex cluster and spatial data\n",
    "hex_df = pd.read_csv('processed_data/hex_with_clusters.csv')\n",
    "\n",
    "# Merge with predictions\n",
    "merged = pd.merge(df, hex_df, on='hex_id')\n",
    "\n",
    "# Calculate R² per cluster\n",
    "cluster_scores = merged.groupby('cluster_label').apply(\n",
    "    lambda g: r2_score(g['eco_count'], g['eco_pred'])\n",
    ")\n",
    "\n",
    "print(cluster_scores)\n",
    "\n",
    "# Plot cluster scores\n",
    "cluster_scores.plot(kind='bar', title='R² by Demographic Cluster')\n",
    "plt.ylabel(\"R² Score\")\n",
    "plt.show()\n"
   ]
  },
  {
   "cell_type": "markdown",
   "id": "f4ea0c46",
   "metadata": {},
   "source": [
    "### 3e. Time Series & Seasonal Comparison"
   ]
  },
  {
   "cell_type": "code",
   "execution_count": null,
   "id": "7a6ad162",
   "metadata": {},
   "outputs": [],
   "source": [
    "\n",
    "# Compare corrected vs original across time\n",
    "weekly = df.groupby('week').agg({'eco_count': 'mean', 'eco_pred': 'mean', 'strava_count': 'mean'}).reset_index()\n",
    "\n",
    "plt.figure(figsize=(12, 4))\n",
    "plt.plot(weekly['week'], weekly['eco_count'], label='Observed EcoCounter')\n",
    "plt.plot(weekly['week'], weekly['eco_pred'], label='Corrected Prediction')\n",
    "plt.plot(weekly['week'], weekly['strava_count'], label='Raw Strava')\n",
    "plt.legend()\n",
    "plt.title(\"Weekly Trends: Observed vs Corrected vs Raw Strava\")\n",
    "plt.xlabel(\"Week\")\n",
    "plt.ylabel(\"Mean Weekly Count\")\n",
    "plt.xticks(rotation=45)\n",
    "plt.tight_layout()\n",
    "plt.show()\n"
   ]
  }
 ],
 "metadata": {
  "kernelspec": {
   "display_name": "biascorr-cookbook-dev",
   "language": "python",
   "name": "biascorr-cookbook-dev"
  },
  "language_info": {
   "codemirror_mode": {
    "name": "ipython",
    "version": 3
   },
   "file_extension": ".py",
   "mimetype": "text/x-python",
   "name": "python",
   "nbconvert_exporter": "python",
   "pygments_lexer": "ipython3",
   "version": "3.11.13"
  }
 },
 "nbformat": 4,
 "nbformat_minor": 5
}
